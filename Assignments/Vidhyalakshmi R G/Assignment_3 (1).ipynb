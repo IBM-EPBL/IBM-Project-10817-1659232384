{
  "nbformat": 4,
  "nbformat_minor": 0,
  "metadata": {
    "colab": {
      "provenance": [],
      "collapsed_sections": []
    },
    "kernelspec": {
      "name": "python3",
      "display_name": "Python 3"
    },
    "language_info": {
      "name": "python"
    }
  },
  "cells": [
    {
      "cell_type": "markdown",
      "source": [
        "**Assignment 3**"
      ],
      "metadata": {
        "id": "9vPI7da9P8b5"
      }
    },
    {
      "cell_type": "code",
      "execution_count": 139,
      "metadata": {
        "id": "ufHF3DMuP4qM"
      },
      "outputs": [],
      "source": [
        "import pandas as pd\n",
        "import numpy as np\n",
        "import matplotlib.pyplot as plt\n",
        "import seaborn as sns"
      ]
    },
    {
      "cell_type": "code",
      "source": [
        "df = pd.read_csv(\"/content/abalone.csv\")"
      ],
      "metadata": {
        "id": "4kwGd-3QRzDq"
      },
      "execution_count": 140,
      "outputs": []
    },
    {
      "cell_type": "code",
      "source": [
        "df.head()\n"
      ],
      "metadata": {
        "colab": {
          "base_uri": "https://localhost:8080/",
          "height": 206
        },
        "id": "NJ3PuY7jRzGD",
        "outputId": "e827c0b8-691a-4941-e8d6-c995c720f8a6"
      },
      "execution_count": 141,
      "outputs": [
        {
          "output_type": "execute_result",
          "data": {
            "text/plain": [
              "  Sex  Length  Diameter  Height  Whole weight  Shucked weight  Viscera weight  \\\n",
              "0   M   0.455     0.365   0.095        0.5140          0.2245          0.1010   \n",
              "1   M   0.350     0.265   0.090        0.2255          0.0995          0.0485   \n",
              "2   F   0.530     0.420   0.135        0.6770          0.2565          0.1415   \n",
              "3   M   0.440     0.365   0.125        0.5160          0.2155          0.1140   \n",
              "4   I   0.330     0.255   0.080        0.2050          0.0895          0.0395   \n",
              "\n",
              "   Shell weight  Rings  \n",
              "0         0.150     15  \n",
              "1         0.070      7  \n",
              "2         0.210      9  \n",
              "3         0.155     10  \n",
              "4         0.055      7  "
            ],
            "text/html": [
              "\n",
              "  <div id=\"df-fc559062-d187-4505-a834-5636f6f1b355\">\n",
              "    <div class=\"colab-df-container\">\n",
              "      <div>\n",
              "<style scoped>\n",
              "    .dataframe tbody tr th:only-of-type {\n",
              "        vertical-align: middle;\n",
              "    }\n",
              "\n",
              "    .dataframe tbody tr th {\n",
              "        vertical-align: top;\n",
              "    }\n",
              "\n",
              "    .dataframe thead th {\n",
              "        text-align: right;\n",
              "    }\n",
              "</style>\n",
              "<table border=\"1\" class=\"dataframe\">\n",
              "  <thead>\n",
              "    <tr style=\"text-align: right;\">\n",
              "      <th></th>\n",
              "      <th>Sex</th>\n",
              "      <th>Length</th>\n",
              "      <th>Diameter</th>\n",
              "      <th>Height</th>\n",
              "      <th>Whole weight</th>\n",
              "      <th>Shucked weight</th>\n",
              "      <th>Viscera weight</th>\n",
              "      <th>Shell weight</th>\n",
              "      <th>Rings</th>\n",
              "    </tr>\n",
              "  </thead>\n",
              "  <tbody>\n",
              "    <tr>\n",
              "      <th>0</th>\n",
              "      <td>M</td>\n",
              "      <td>0.455</td>\n",
              "      <td>0.365</td>\n",
              "      <td>0.095</td>\n",
              "      <td>0.5140</td>\n",
              "      <td>0.2245</td>\n",
              "      <td>0.1010</td>\n",
              "      <td>0.150</td>\n",
              "      <td>15</td>\n",
              "    </tr>\n",
              "    <tr>\n",
              "      <th>1</th>\n",
              "      <td>M</td>\n",
              "      <td>0.350</td>\n",
              "      <td>0.265</td>\n",
              "      <td>0.090</td>\n",
              "      <td>0.2255</td>\n",
              "      <td>0.0995</td>\n",
              "      <td>0.0485</td>\n",
              "      <td>0.070</td>\n",
              "      <td>7</td>\n",
              "    </tr>\n",
              "    <tr>\n",
              "      <th>2</th>\n",
              "      <td>F</td>\n",
              "      <td>0.530</td>\n",
              "      <td>0.420</td>\n",
              "      <td>0.135</td>\n",
              "      <td>0.6770</td>\n",
              "      <td>0.2565</td>\n",
              "      <td>0.1415</td>\n",
              "      <td>0.210</td>\n",
              "      <td>9</td>\n",
              "    </tr>\n",
              "    <tr>\n",
              "      <th>3</th>\n",
              "      <td>M</td>\n",
              "      <td>0.440</td>\n",
              "      <td>0.365</td>\n",
              "      <td>0.125</td>\n",
              "      <td>0.5160</td>\n",
              "      <td>0.2155</td>\n",
              "      <td>0.1140</td>\n",
              "      <td>0.155</td>\n",
              "      <td>10</td>\n",
              "    </tr>\n",
              "    <tr>\n",
              "      <th>4</th>\n",
              "      <td>I</td>\n",
              "      <td>0.330</td>\n",
              "      <td>0.255</td>\n",
              "      <td>0.080</td>\n",
              "      <td>0.2050</td>\n",
              "      <td>0.0895</td>\n",
              "      <td>0.0395</td>\n",
              "      <td>0.055</td>\n",
              "      <td>7</td>\n",
              "    </tr>\n",
              "  </tbody>\n",
              "</table>\n",
              "</div>\n",
              "      <button class=\"colab-df-convert\" onclick=\"convertToInteractive('df-fc559062-d187-4505-a834-5636f6f1b355')\"\n",
              "              title=\"Convert this dataframe to an interactive table.\"\n",
              "              style=\"display:none;\">\n",
              "        \n",
              "  <svg xmlns=\"http://www.w3.org/2000/svg\" height=\"24px\"viewBox=\"0 0 24 24\"\n",
              "       width=\"24px\">\n",
              "    <path d=\"M0 0h24v24H0V0z\" fill=\"none\"/>\n",
              "    <path d=\"M18.56 5.44l.94 2.06.94-2.06 2.06-.94-2.06-.94-.94-2.06-.94 2.06-2.06.94zm-11 1L8.5 8.5l.94-2.06 2.06-.94-2.06-.94L8.5 2.5l-.94 2.06-2.06.94zm10 10l.94 2.06.94-2.06 2.06-.94-2.06-.94-.94-2.06-.94 2.06-2.06.94z\"/><path d=\"M17.41 7.96l-1.37-1.37c-.4-.4-.92-.59-1.43-.59-.52 0-1.04.2-1.43.59L10.3 9.45l-7.72 7.72c-.78.78-.78 2.05 0 2.83L4 21.41c.39.39.9.59 1.41.59.51 0 1.02-.2 1.41-.59l7.78-7.78 2.81-2.81c.8-.78.8-2.07 0-2.86zM5.41 20L4 18.59l7.72-7.72 1.47 1.35L5.41 20z\"/>\n",
              "  </svg>\n",
              "      </button>\n",
              "      \n",
              "  <style>\n",
              "    .colab-df-container {\n",
              "      display:flex;\n",
              "      flex-wrap:wrap;\n",
              "      gap: 12px;\n",
              "    }\n",
              "\n",
              "    .colab-df-convert {\n",
              "      background-color: #E8F0FE;\n",
              "      border: none;\n",
              "      border-radius: 50%;\n",
              "      cursor: pointer;\n",
              "      display: none;\n",
              "      fill: #1967D2;\n",
              "      height: 32px;\n",
              "      padding: 0 0 0 0;\n",
              "      width: 32px;\n",
              "    }\n",
              "\n",
              "    .colab-df-convert:hover {\n",
              "      background-color: #E2EBFA;\n",
              "      box-shadow: 0px 1px 2px rgba(60, 64, 67, 0.3), 0px 1px 3px 1px rgba(60, 64, 67, 0.15);\n",
              "      fill: #174EA6;\n",
              "    }\n",
              "\n",
              "    [theme=dark] .colab-df-convert {\n",
              "      background-color: #3B4455;\n",
              "      fill: #D2E3FC;\n",
              "    }\n",
              "\n",
              "    [theme=dark] .colab-df-convert:hover {\n",
              "      background-color: #434B5C;\n",
              "      box-shadow: 0px 1px 3px 1px rgba(0, 0, 0, 0.15);\n",
              "      filter: drop-shadow(0px 1px 2px rgba(0, 0, 0, 0.3));\n",
              "      fill: #FFFFFF;\n",
              "    }\n",
              "  </style>\n",
              "\n",
              "      <script>\n",
              "        const buttonEl =\n",
              "          document.querySelector('#df-fc559062-d187-4505-a834-5636f6f1b355 button.colab-df-convert');\n",
              "        buttonEl.style.display =\n",
              "          google.colab.kernel.accessAllowed ? 'block' : 'none';\n",
              "\n",
              "        async function convertToInteractive(key) {\n",
              "          const element = document.querySelector('#df-fc559062-d187-4505-a834-5636f6f1b355');\n",
              "          const dataTable =\n",
              "            await google.colab.kernel.invokeFunction('convertToInteractive',\n",
              "                                                     [key], {});\n",
              "          if (!dataTable) return;\n",
              "\n",
              "          const docLinkHtml = 'Like what you see? Visit the ' +\n",
              "            '<a target=\"_blank\" href=https://colab.research.google.com/notebooks/data_table.ipynb>data table notebook</a>'\n",
              "            + ' to learn more about interactive tables.';\n",
              "          element.innerHTML = '';\n",
              "          dataTable['output_type'] = 'display_data';\n",
              "          await google.colab.output.renderOutput(dataTable, element);\n",
              "          const docLink = document.createElement('div');\n",
              "          docLink.innerHTML = docLinkHtml;\n",
              "          element.appendChild(docLink);\n",
              "        }\n",
              "      </script>\n",
              "    </div>\n",
              "  </div>\n",
              "  "
            ]
          },
          "metadata": {},
          "execution_count": 141
        }
      ]
    },
    {
      "cell_type": "code",
      "source": [
        "plt.hist(df['Rings'])"
      ],
      "metadata": {
        "colab": {
          "base_uri": "https://localhost:8080/",
          "height": 334
        },
        "id": "iVxHvxExRzI1",
        "outputId": "49691570-b6ef-41f3-f636-8a7a071f38c6"
      },
      "execution_count": 142,
      "outputs": [
        {
          "output_type": "execute_result",
          "data": {
            "text/plain": [
              "(array([  17.,  431., 1648., 1388.,  329.,  228.,  100.,   29.,    4.,\n",
              "           3.]),\n",
              " array([ 1. ,  3.8,  6.6,  9.4, 12.2, 15. , 17.8, 20.6, 23.4, 26.2, 29. ]),\n",
              " <a list of 10 Patch objects>)"
            ]
          },
          "metadata": {},
          "execution_count": 142
        },
        {
          "output_type": "display_data",
          "data": {
            "text/plain": [
              "<Figure size 432x288 with 1 Axes>"
            ],
            "image/png": "[encoded data removed]"
          },
          "metadata": {
            "needs_background": "light"
          }
        }
      ]
    },
    {
      "cell_type": "code",
      "source": [
        "sns.boxplot(x='Height',y='Length',data=df,palette='rainbow')"
      ],
      "metadata": {
        "colab": {
          "base_uri": "https://localhost:8080/",
          "height": 296
        },
        "id": "XcL0DQnyRzLf",
        "outputId": "f5833143-fee3-43e1-944e-88627e9cecc4"
      },
      "execution_count": 143,
      "outputs": [
        {
          "output_type": "execute_result",
          "data": {
            "text/plain": [
              "<matplotlib.axes._subplots.AxesSubplot at 0x7f82bd8e3310>"
            ]
          },
          "metadata": {},
          "execution_count": 143
        },
        {
          "output_type": "display_data",
          "data": {
            "text/plain": [
              "<Figure size 432x288 with 1 Axes>"
            ],
            "image/png": "[encoded data removed]"
          },
          "metadata": {
            "needs_background": "light"
          }
        }
      ]
    },
    {
      "cell_type": "code",
      "source": [
        "sns.pairplot(data=df[['Height','Length','Diameter','Rings','Shell weight']])"
      ],
      "metadata": {
        "colab": {
          "base_uri": "https://localhost:8080/",
          "height": 920
        },
        "id": "FsfL8a8lRzOG",
        "outputId": "c51e0979-81bb-4b09-8249-640f54bdc2ee"
      },
      "execution_count": 144,
      "outputs": [
        {
          "output_type": "execute_result",
          "data": {
            "text/plain": [
              "<seaborn.axisgrid.PairGrid at 0x7f82bdea4450>"
            ]
          },
          "metadata": {},
          "execution_count": 144
        },
        {
          "output_type": "display_data",
          "data": {
            "text/plain": [
              "<Figure size 900x900 with 30 Axes>"
            ],
            "image/png": "[encoded data removed]"
          },
          "metadata": {
            "needs_background": "light"
          }
        }
      ]
    },
    {
      "cell_type": "code",
      "source": [
        "df.describe().T"
      ],
      "metadata": {
        "colab": {
          "base_uri": "https://localhost:8080/",
          "height": 300
        },
        "id": "HcfQNzYyRzQw",
        "outputId": "0adf2d74-5c8b-4008-cef9-28e20df6baa2"
      },
      "execution_count": 145,
      "outputs": [
        {
          "output_type": "execute_result",
          "data": {
            "text/plain": [
              "                 count      mean       std     min     25%     50%     75%  \\\n",
              "Length          4177.0  0.523992  0.120093  0.0750  0.4500  0.5450   0.615   \n",
              "Diameter        4177.0  0.407881  0.099240  0.0550  0.3500  0.4250   0.480   \n",
              "Height          4177.0  0.139516  0.041827  0.0000  0.1150  0.1400   0.165   \n",
              "Whole weight    4177.0  0.828742  0.490389  0.0020  0.4415  0.7995   1.153   \n",
              "Shucked weight  4177.0  0.359367  0.221963  0.0010  0.1860  0.3360   0.502   \n",
              "Viscera weight  4177.0  0.180594  0.109614  0.0005  0.0935  0.1710   0.253   \n",
              "Shell weight    4177.0  0.238831  0.139203  0.0015  0.1300  0.2340   0.329   \n",
              "Rings           4177.0  9.933684  3.224169  1.0000  8.0000  9.0000  11.000   \n",
              "\n",
              "                    max  \n",
              "Length           0.8150  \n",
              "Diameter         0.6500  \n",
              "Height           1.1300  \n",
              "Whole weight     2.8255  \n",
              "Shucked weight   1.4880  \n",
              "Viscera weight   0.7600  \n",
              "Shell weight     1.0050  \n",
              "Rings           29.0000  "
            ],
            "text/html": [
              "\n",
              "  <div id=\"df-07224424-ebc0-4867-86de-45222505102f\">\n",
              "    <div class=\"colab-df-container\">\n",
              "      <div>\n",
              "<style scoped>\n",
              "    .dataframe tbody tr th:only-of-type {\n",
              "        vertical-align: middle;\n",
              "    }\n",
              "\n",
              "    .dataframe tbody tr th {\n",
              "        vertical-align: top;\n",
              "    }\n",
              "\n",
              "    .dataframe thead th {\n",
              "        text-align: right;\n",
              "    }\n",
              "</style>\n",
              "<table border=\"1\" class=\"dataframe\">\n",
              "  <thead>\n",
              "    <tr style=\"text-align: right;\">\n",
              "      <th></th>\n",
              "      <th>count</th>\n",
              "      <th>mean</th>\n",
              "      <th>std</th>\n",
              "      <th>min</th>\n",
              "      <th>25%</th>\n",
              "      <th>50%</th>\n",
              "      <th>75%</th>\n",
              "      <th>max</th>\n",
              "    </tr>\n",
              "  </thead>\n",
              "  <tbody>\n",
              "    <tr>\n",
              "      <th>Length</th>\n",
              "      <td>4177.0</td>\n",
              "      <td>0.523992</td>\n",
              "      <td>0.120093</td>\n",
              "      <td>0.0750</td>\n",
              "      <td>0.4500</td>\n",
              "      <td>0.5450</td>\n",
              "      <td>0.615</td>\n",
              "      <td>0.8150</td>\n",
              "    </tr>\n",
              "    <tr>\n",
              "      <th>Diameter</th>\n",
              "      <td>4177.0</td>\n",
              "      <td>0.407881</td>\n",
              "      <td>0.099240</td>\n",
              "      <td>0.0550</td>\n",
              "      <td>0.3500</td>\n",
              "      <td>0.4250</td>\n",
              "      <td>0.480</td>\n",
              "      <td>0.6500</td>\n",
              "    </tr>\n",
              "    <tr>\n",
              "      <th>Height</th>\n",
              "      <td>4177.0</td>\n",
              "      <td>0.139516</td>\n",
              "      <td>0.041827</td>\n",
              "      <td>0.0000</td>\n",
              "      <td>0.1150</td>\n",
              "      <td>0.1400</td>\n",
              "      <td>0.165</td>\n",
              "      <td>1.1300</td>\n",
              "    </tr>\n",
              "    <tr>\n",
              "      <th>Whole weight</th>\n",
              "      <td>4177.0</td>\n",
              "      <td>0.828742</td>\n",
              "      <td>0.490389</td>\n",
              "      <td>0.0020</td>\n",
              "      <td>0.4415</td>\n",
              "      <td>0.7995</td>\n",
              "      <td>1.153</td>\n",
              "      <td>2.8255</td>\n",
              "    </tr>\n",
              "    <tr>\n",
              "      <th>Shucked weight</th>\n",
              "      <td>4177.0</td>\n",
              "      <td>0.359367</td>\n",
              "      <td>0.221963</td>\n",
              "      <td>0.0010</td>\n",
              "      <td>0.1860</td>\n",
              "      <td>0.3360</td>\n",
              "      <td>0.502</td>\n",
              "      <td>1.4880</td>\n",
              "    </tr>\n",
              "    <tr>\n",
              "      <th>Viscera weight</th>\n",
              "      <td>4177.0</td>\n",
              "      <td>0.180594</td>\n",
              "      <td>0.109614</td>\n",
              "      <td>0.0005</td>\n",
              "      <td>0.0935</td>\n",
              "      <td>0.1710</td>\n",
              "      <td>0.253</td>\n",
              "      <td>0.7600</td>\n",
              "    </tr>\n",
              "    <tr>\n",
              "      <th>Shell weight</th>\n",
              "      <td>4177.0</td>\n",
              "      <td>0.238831</td>\n",
              "      <td>0.139203</td>\n",
              "      <td>0.0015</td>\n",
              "      <td>0.1300</td>\n",
              "      <td>0.2340</td>\n",
              "      <td>0.329</td>\n",
              "      <td>1.0050</td>\n",
              "    </tr>\n",
              "    <tr>\n",
              "      <th>Rings</th>\n",
              "      <td>4177.0</td>\n",
              "      <td>9.933684</td>\n",
              "      <td>3.224169</td>\n",
              "      <td>1.0000</td>\n",
              "      <td>8.0000</td>\n",
              "      <td>9.0000</td>\n",
              "      <td>11.000</td>\n",
              "      <td>29.0000</td>\n",
              "    </tr>\n",
              "  </tbody>\n",
              "</table>\n",
              "</div>\n",
              "      <button class=\"colab-df-convert\" onclick=\"convertToInteractive('df-07224424-ebc0-4867-86de-45222505102f')\"\n",
              "              title=\"Convert this dataframe to an interactive table.\"\n",
              "              style=\"display:none;\">\n",
              "        \n",
              "  <svg xmlns=\"http://www.w3.org/2000/svg\" height=\"24px\"viewBox=\"0 0 24 24\"\n",
              "       width=\"24px\">\n",
              "    <path d=\"M0 0h24v24H0V0z\" fill=\"none\"/>\n",
              "    <path d=\"M18.56 5.44l.94 2.06.94-2.06 2.06-.94-2.06-.94-.94-2.06-.94 2.06-2.06.94zm-11 1L8.5 8.5l.94-2.06 2.06-.94-2.06-.94L8.5 2.5l-.94 2.06-2.06.94zm10 10l.94 2.06.94-2.06 2.06-.94-2.06-.94-.94-2.06-.94 2.06-2.06.94z\"/><path d=\"M17.41 7.96l-1.37-1.37c-.4-.4-.92-.59-1.43-.59-.52 0-1.04.2-1.43.59L10.3 9.45l-7.72 7.72c-.78.78-.78 2.05 0 2.83L4 21.41c.39.39.9.59 1.41.59.51 0 1.02-.2 1.41-.59l7.78-7.78 2.81-2.81c.8-.78.8-2.07 0-2.86zM5.41 20L4 18.59l7.72-7.72 1.47 1.35L5.41 20z\"/>\n",
              "  </svg>\n",
              "      </button>\n",
              "      \n",
              "  <style>\n",
              "    .colab-df-container {\n",
              "      display:flex;\n",
              "      flex-wrap:wrap;\n",
              "      gap: 12px;\n",
              "    }\n",
              "\n",
              "    .colab-df-convert {\n",
              "      background-color: #E8F0FE;\n",
              "      border: none;\n",
              "      border-radius: 50%;\n",
              "      cursor: pointer;\n",
              "      display: none;\n",
              "      fill: #1967D2;\n",
              "      height: 32px;\n",
              "      padding: 0 0 0 0;\n",
              "      width: 32px;\n",
              "    }\n",
              "\n",
              "    .colab-df-convert:hover {\n",
              "      background-color: #E2EBFA;\n",
              "      box-shadow: 0px 1px 2px rgba(60, 64, 67, 0.3), 0px 1px 3px 1px rgba(60, 64, 67, 0.15);\n",
              "      fill: #174EA6;\n",
              "    }\n",
              "\n",
              "    [theme=dark] .colab-df-convert {\n",
              "      background-color: #3B4455;\n",
              "      fill: #D2E3FC;\n",
              "    }\n",
              "\n",
              "    [theme=dark] .colab-df-convert:hover {\n",
              "      background-color: #434B5C;\n",
              "      box-shadow: 0px 1px 3px 1px rgba(0, 0, 0, 0.15);\n",
              "      filter: drop-shadow(0px 1px 2px rgba(0, 0, 0, 0.3));\n",
              "      fill: #FFFFFF;\n",
              "    }\n",
              "  </style>\n",
              "\n",
              "      <script>\n",
              "        const buttonEl =\n",
              "          document.querySelector('#df-07224424-ebc0-4867-86de-45222505102f button.colab-df-convert');\n",
              "        buttonEl.style.display =\n",
              "          google.colab.kernel.accessAllowed ? 'block' : 'none';\n",
              "\n",
              "        async function convertToInteractive(key) {\n",
              "          const element = document.querySelector('#df-07224424-ebc0-4867-86de-45222505102f');\n",
              "          const dataTable =\n",
              "            await google.colab.kernel.invokeFunction('convertToInteractive',\n",
              "                                                     [key], {});\n",
              "          if (!dataTable) return;\n",
              "\n",
              "          const docLinkHtml = 'Like what you see? Visit the ' +\n",
              "            '<a target=\"_blank\" href=https://colab.research.google.com/notebooks/data_table.ipynb>data table notebook</a>'\n",
              "            + ' to learn more about interactive tables.';\n",
              "          element.innerHTML = '';\n",
              "          dataTable['output_type'] = 'display_data';\n",
              "          await google.colab.output.renderOutput(dataTable, element);\n",
              "          const docLink = document.createElement('div');\n",
              "          docLink.innerHTML = docLinkHtml;\n",
              "          element.appendChild(docLink);\n",
              "        }\n",
              "      </script>\n",
              "    </div>\n",
              "  </div>\n",
              "  "
            ]
          },
          "metadata": {},
          "execution_count": 145
        }
      ]
    },
    {
      "cell_type": "code",
      "source": [
        "df.isna()"
      ],
      "metadata": {
        "colab": {
          "base_uri": "https://localhost:8080/",
          "height": 424
        },
        "id": "NeBDrL5FRzTX",
        "outputId": "4fe8e49b-9182-463a-dbb5-7d2c62534045"
      },
      "execution_count": 146,
      "outputs": [
        {
          "output_type": "execute_result",
          "data": {
            "text/plain": [
              "        Sex  Length  Diameter  Height  Whole weight  Shucked weight  \\\n",
              "0     False   False     False   False         False           False   \n",
              "1     False   False     False   False         False           False   \n",
              "2     False   False     False   False         False           False   \n",
              "3     False   False     False   False         False           False   \n",
              "4     False   False     False   False         False           False   \n",
              "...     ...     ...       ...     ...           ...             ...   \n",
              "4172  False   False     False   False         False           False   \n",
              "4173  False   False     False   False         False           False   \n",
              "4174  False   False     False   False         False           False   \n",
              "4175  False   False     False   False         False           False   \n",
              "4176  False   False     False   False         False           False   \n",
              "\n",
              "      Viscera weight  Shell weight  Rings  \n",
              "0              False         False  False  \n",
              "1              False         False  False  \n",
              "2              False         False  False  \n",
              "3              False         False  False  \n",
              "4              False         False  False  \n",
              "...              ...           ...    ...  \n",
              "4172           False         False  False  \n",
              "4173           False         False  False  \n",
              "4174           False         False  False  \n",
              "4175           False         False  False  \n",
              "4176           False         False  False  \n",
              "\n",
              "[4177 rows x 9 columns]"
            ],
            "text/html": [
              "\n",
              "  <div id=\"df-0e8c9d6f-11d0-41d8-b5ad-af81be628c3e\">\n",
              "    <div class=\"colab-df-container\">\n",
              "      <div>\n",
              "<style scoped>\n",
              "    .dataframe tbody tr th:only-of-type {\n",
              "        vertical-align: middle;\n",
              "    }\n",
              "\n",
              "    .dataframe tbody tr th {\n",
              "        vertical-align: top;\n",
              "    }\n",
              "\n",
              "    .dataframe thead th {\n",
              "        text-align: right;\n",
              "    }\n",
              "</style>\n",
              "<table border=\"1\" class=\"dataframe\">\n",
              "  <thead>\n",
              "    <tr style=\"text-align: right;\">\n",
              "      <th></th>\n",
              "      <th>Sex</th>\n",
              "      <th>Length</th>\n",
              "      <th>Diameter</th>\n",
              "      <th>Height</th>\n",
              "      <th>Whole weight</th>\n",
              "      <th>Shucked weight</th>\n",
              "      <th>Viscera weight</th>\n",
              "      <th>Shell weight</th>\n",
              "      <th>Rings</th>\n",
              "    </tr>\n",
              "  </thead>\n",
              "  <tbody>\n",
              "    <tr>\n",
              "      <th>0</th>\n",
              "      <td>False</td>\n",
              "      <td>False</td>\n",
              "      <td>False</td>\n",
              "      <td>False</td>\n",
              "      <td>False</td>\n",
              "      <td>False</td>\n",
              "      <td>False</td>\n",
              "      <td>False</td>\n",
              "      <td>False</td>\n",
              "    </tr>\n",
              "    <tr>\n",
              "      <th>1</th>\n",
              "      <td>False</td>\n",
              "      <td>False</td>\n",
              "      <td>False</td>\n",
              "      <td>False</td>\n",
              "      <td>False</td>\n",
              "      <td>False</td>\n",
              "      <td>False</td>\n",
              "      <td>False</td>\n",
              "      <td>False</td>\n",
              "    </tr>\n",
              "    <tr>\n",
              "      <th>2</th>\n",
              "      <td>False</td>\n",
              "      <td>False</td>\n",
              "      <td>False</td>\n",
              "      <td>False</td>\n",
              "      <td>False</td>\n",
              "      <td>False</td>\n",
              "      <td>False</td>\n",
              "      <td>False</td>\n",
              "      <td>False</td>\n",
              "    </tr>\n",
              "    <tr>\n",
              "      <th>3</th>\n",
              "      <td>False</td>\n",
              "      <td>False</td>\n",
              "      <td>False</td>\n",
              "      <td>False</td>\n",
              "      <td>False</td>\n",
              "      <td>False</td>\n",
              "      <td>False</td>\n",
              "      <td>False</td>\n",
              "      <td>False</td>\n",
              "    </tr>\n",
              "    <tr>\n",
              "      <th>4</th>\n",
              "      <td>False</td>\n",
              "      <td>False</td>\n",
              "      <td>False</td>\n",
              "      <td>False</td>\n",
              "      <td>False</td>\n",
              "      <td>False</td>\n",
              "      <td>False</td>\n",
              "      <td>False</td>\n",
              "      <td>False</td>\n",
              "    </tr>\n",
              "    <tr>\n",
              "      <th>...</th>\n",
              "      <td>...</td>\n",
              "      <td>...</td>\n",
              "      <td>...</td>\n",
              "      <td>...</td>\n",
              "      <td>...</td>\n",
              "      <td>...</td>\n",
              "      <td>...</td>\n",
              "      <td>...</td>\n",
              "      <td>...</td>\n",
              "    </tr>\n",
              "    <tr>\n",
              "      <th>4172</th>\n",
              "      <td>False</td>\n",
              "      <td>False</td>\n",
              "      <td>False</td>\n",
              "      <td>False</td>\n",
              "      <td>False</td>\n",
              "      <td>False</td>\n",
              "      <td>False</td>\n",
              "      <td>False</td>\n",
              "      <td>False</td>\n",
              "    </tr>\n",
              "    <tr>\n",
              "      <th>4173</th>\n",
              "      <td>False</td>\n",
              "      <td>False</td>\n",
              "      <td>False</td>\n",
              "      <td>False</td>\n",
              "      <td>False</td>\n",
              "      <td>False</td>\n",
              "      <td>False</td>\n",
              "      <td>False</td>\n",
              "      <td>False</td>\n",
              "    </tr>\n",
              "    <tr>\n",
              "      <th>4174</th>\n",
              "      <td>False</td>\n",
              "      <td>False</td>\n",
              "      <td>False</td>\n",
              "      <td>False</td>\n",
              "      <td>False</td>\n",
              "      <td>False</td>\n",
              "      <td>False</td>\n",
              "      <td>False</td>\n",
              "      <td>False</td>\n",
              "    </tr>\n",
              "    <tr>\n",
              "      <th>4175</th>\n",
              "      <td>False</td>\n",
              "      <td>False</td>\n",
              "      <td>False</td>\n",
              "      <td>False</td>\n",
              "      <td>False</td>\n",
              "      <td>False</td>\n",
              "      <td>False</td>\n",
              "      <td>False</td>\n",
              "      <td>False</td>\n",
              "    </tr>\n",
              "    <tr>\n",
              "      <th>4176</th>\n",
              "      <td>False</td>\n",
              "      <td>False</td>\n",
              "      <td>False</td>\n",
              "      <td>False</td>\n",
              "      <td>False</td>\n",
              "      <td>False</td>\n",
              "      <td>False</td>\n",
              "      <td>False</td>\n",
              "      <td>False</td>\n",
              "    </tr>\n",
              "  </tbody>\n",
              "</table>\n",
              "<p>4177 rows × 9 columns</p>\n",
              "</div>\n",
              "      <button class=\"colab-df-convert\" onclick=\"convertToInteractive('df-0e8c9d6f-11d0-41d8-b5ad-af81be628c3e')\"\n",
              "              title=\"Convert this dataframe to an interactive table.\"\n",
              "              style=\"display:none;\">\n",
              "        \n",
              "  <svg xmlns=\"http://www.w3.org/2000/svg\" height=\"24px\"viewBox=\"0 0 24 24\"\n",
              "       width=\"24px\">\n",
              "    <path d=\"M0 0h24v24H0V0z\" fill=\"none\"/>\n",
              "    <path d=\"M18.56 5.44l.94 2.06.94-2.06 2.06-.94-2.06-.94-.94-2.06-.94 2.06-2.06.94zm-11 1L8.5 8.5l.94-2.06 2.06-.94-2.06-.94L8.5 2.5l-.94 2.06-2.06.94zm10 10l.94 2.06.94-2.06 2.06-.94-2.06-.94-.94-2.06-.94 2.06-2.06.94z\"/><path d=\"M17.41 7.96l-1.37-1.37c-.4-.4-.92-.59-1.43-.59-.52 0-1.04.2-1.43.59L10.3 9.45l-7.72 7.72c-.78.78-.78 2.05 0 2.83L4 21.41c.39.39.9.59 1.41.59.51 0 1.02-.2 1.41-.59l7.78-7.78 2.81-2.81c.8-.78.8-2.07 0-2.86zM5.41 20L4 18.59l7.72-7.72 1.47 1.35L5.41 20z\"/>\n",
              "  </svg>\n",
              "      </button>\n",
              "      \n",
              "  <style>\n",
              "    .colab-df-container {\n",
              "      display:flex;\n",
              "      flex-wrap:wrap;\n",
              "      gap: 12px;\n",
              "    }\n",
              "\n",
              "    .colab-df-convert {\n",
              "      background-color: #E8F0FE;\n",
              "      border: none;\n",
              "      border-radius: 50%;\n",
              "      cursor: pointer;\n",
              "      display: none;\n",
              "      fill: #1967D2;\n",
              "      height: 32px;\n",
              "      padding: 0 0 0 0;\n",
              "      width: 32px;\n",
              "    }\n",
              "\n",
              "    .colab-df-convert:hover {\n",
              "      background-color: #E2EBFA;\n",
              "      box-shadow: 0px 1px 2px rgba(60, 64, 67, 0.3), 0px 1px 3px 1px rgba(60, 64, 67, 0.15);\n",
              "      fill: #174EA6;\n",
              "    }\n",
              "\n",
              "    [theme=dark] .colab-df-convert {\n",
              "      background-color: #3B4455;\n",
              "      fill: #D2E3FC;\n",
              "    }\n",
              "\n",
              "    [theme=dark] .colab-df-convert:hover {\n",
              "      background-color: #434B5C;\n",
              "      box-shadow: 0px 1px 3px 1px rgba(0, 0, 0, 0.15);\n",
              "      filter: drop-shadow(0px 1px 2px rgba(0, 0, 0, 0.3));\n",
              "      fill: #FFFFFF;\n",
              "    }\n",
              "  </style>\n",
              "\n",
              "      <script>\n",
              "        const buttonEl =\n",
              "          document.querySelector('#df-0e8c9d6f-11d0-41d8-b5ad-af81be628c3e button.colab-df-convert');\n",
              "        buttonEl.style.display =\n",
              "          google.colab.kernel.accessAllowed ? 'block' : 'none';\n",
              "\n",
              "        async function convertToInteractive(key) {\n",
              "          const element = document.querySelector('#df-0e8c9d6f-11d0-41d8-b5ad-af81be628c3e');\n",
              "          const dataTable =\n",
              "            await google.colab.kernel.invokeFunction('convertToInteractive',\n",
              "                                                     [key], {});\n",
              "          if (!dataTable) return;\n",
              "\n",
              "          const docLinkHtml = 'Like what you see? Visit the ' +\n",
              "            '<a target=\"_blank\" href=https://colab.research.google.com/notebooks/data_table.ipynb>data table notebook</a>'\n",
              "            + ' to learn more about interactive tables.';\n",
              "          element.innerHTML = '';\n",
              "          dataTable['output_type'] = 'display_data';\n",
              "          await google.colab.output.renderOutput(dataTable, element);\n",
              "          const docLink = document.createElement('div');\n",
              "          docLink.innerHTML = docLinkHtml;\n",
              "          element.appendChild(docLink);\n",
              "        }\n",
              "      </script>\n",
              "    </div>\n",
              "  </div>\n",
              "  "
            ]
          },
          "metadata": {},
          "execution_count": 146
        }
      ]
    },
    {
      "cell_type": "code",
      "source": [
        "df.isna().sum()"
      ],
      "metadata": {
        "colab": {
          "base_uri": "https://localhost:8080/"
        },
        "id": "8s6t_lzyRzWV",
        "outputId": "acc485ff-fe23-49e2-869c-45e1a96a4801"
      },
      "execution_count": 147,
      "outputs": [
        {
          "output_type": "execute_result",
          "data": {
            "text/plain": [
              "Sex               0\n",
              "Length            0\n",
              "Diameter          0\n",
              "Height            0\n",
              "Whole weight      0\n",
              "Shucked weight    0\n",
              "Viscera weight    0\n",
              "Shell weight      0\n",
              "Rings             0\n",
              "dtype: int64"
            ]
          },
          "metadata": {},
          "execution_count": 147
        }
      ]
    },
    {
      "cell_type": "code",
      "source": [
        "fig,ax=plt.subplots(figsize=(25,5))\n",
        "\n",
        "\n",
        "\n",
        "plt.subplot(1, 5, 4)\n",
        "sns.boxplot(x=df['Height'])\n",
        "\n",
        "plt.subplot(1, 5, 1)\n",
        "sns.boxplot(x=df['Length'])\n",
        "\n",
        "plt.subplot(1, 5, 5)\n",
        "sns.boxplot(x=df['Diameter'])\n",
        "\n",
        "plt.subplot(1, 5, 2)\n",
        "sns.boxplot(x=df['Rings'])\n",
        "\n",
        "plt.subplot(1, 5, 3)\n",
        "sns.boxplot(x=df['Shell weight'])"
      ],
      "metadata": {
        "colab": {
          "base_uri": "https://localhost:8080/",
          "height": 351
        },
        "id": "NVMRKUSSU12T",
        "outputId": "2b29a40c-c8df-45ef-e9c6-65a230dc8b8f"
      },
      "execution_count": 148,
      "outputs": [
        {
          "output_type": "execute_result",
          "data": {
            "text/plain": [
              "<matplotlib.axes._subplots.AxesSubplot at 0x7f82bc3dcfd0>"
            ]
          },
          "metadata": {},
          "execution_count": 148
        },
        {
          "output_type": "display_data",
          "data": {
            "text/plain": [
              "<Figure size 1800x360 with 5 Axes>"
            ],
            "image/png": "[encoded data removed]"
          },
          "metadata": {
            "needs_background": "light"
          }
        }
      ]
    },
    {
      "cell_type": "code",
      "source": [
        "q=df.quantile(q=[0.25,0.75])\n",
        "\n",
        "q"
      ],
      "metadata": {
        "colab": {
          "base_uri": "https://localhost:8080/",
          "height": 112
        },
        "id": "sLdpL3xsU15E",
        "outputId": "11ce6ad7-e443-4d2a-8ddb-de67ed4f734e"
      },
      "execution_count": 149,
      "outputs": [
        {
          "output_type": "execute_result",
          "data": {
            "text/plain": [
              "      Length  Diameter  Height  Whole weight  Shucked weight  Viscera weight  \\\n",
              "0.25   0.450      0.35   0.115        0.4415           0.186          0.0935   \n",
              "0.75   0.615      0.48   0.165        1.1530           0.502          0.2530   \n",
              "\n",
              "      Shell weight  Rings  \n",
              "0.25         0.130    8.0  \n",
              "0.75         0.329   11.0  "
            ],
            "text/html": [
              "\n",
              "  <div id=\"df-d7ca5c4d-1505-4e79-b5a7-570f5f539cda\">\n",
              "    <div class=\"colab-df-container\">\n",
              "      <div>\n",
              "<style scoped>\n",
              "    .dataframe tbody tr th:only-of-type {\n",
              "        vertical-align: middle;\n",
              "    }\n",
              "\n",
              "    .dataframe tbody tr th {\n",
              "        vertical-align: top;\n",
              "    }\n",
              "\n",
              "    .dataframe thead th {\n",
              "        text-align: right;\n",
              "    }\n",
              "</style>\n",
              "<table border=\"1\" class=\"dataframe\">\n",
              "  <thead>\n",
              "    <tr style=\"text-align: right;\">\n",
              "      <th></th>\n",
              "      <th>Length</th>\n",
              "      <th>Diameter</th>\n",
              "      <th>Height</th>\n",
              "      <th>Whole weight</th>\n",
              "      <th>Shucked weight</th>\n",
              "      <th>Viscera weight</th>\n",
              "      <th>Shell weight</th>\n",
              "      <th>Rings</th>\n",
              "    </tr>\n",
              "  </thead>\n",
              "  <tbody>\n",
              "    <tr>\n",
              "      <th>0.25</th>\n",
              "      <td>0.450</td>\n",
              "      <td>0.35</td>\n",
              "      <td>0.115</td>\n",
              "      <td>0.4415</td>\n",
              "      <td>0.186</td>\n",
              "      <td>0.0935</td>\n",
              "      <td>0.130</td>\n",
              "      <td>8.0</td>\n",
              "    </tr>\n",
              "    <tr>\n",
              "      <th>0.75</th>\n",
              "      <td>0.615</td>\n",
              "      <td>0.48</td>\n",
              "      <td>0.165</td>\n",
              "      <td>1.1530</td>\n",
              "      <td>0.502</td>\n",
              "      <td>0.2530</td>\n",
              "      <td>0.329</td>\n",
              "      <td>11.0</td>\n",
              "    </tr>\n",
              "  </tbody>\n",
              "</table>\n",
              "</div>\n",
              "      <button class=\"colab-df-convert\" onclick=\"convertToInteractive('df-d7ca5c4d-1505-4e79-b5a7-570f5f539cda')\"\n",
              "              title=\"Convert this dataframe to an interactive table.\"\n",
              "              style=\"display:none;\">\n",
              "        \n",
              "  <svg xmlns=\"http://www.w3.org/2000/svg\" height=\"24px\"viewBox=\"0 0 24 24\"\n",
              "       width=\"24px\">\n",
              "    <path d=\"M0 0h24v24H0V0z\" fill=\"none\"/>\n",
              "    <path d=\"M18.56 5.44l.94 2.06.94-2.06 2.06-.94-2.06-.94-.94-2.06-.94 2.06-2.06.94zm-11 1L8.5 8.5l.94-2.06 2.06-.94-2.06-.94L8.5 2.5l-.94 2.06-2.06.94zm10 10l.94 2.06.94-2.06 2.06-.94-2.06-.94-.94-2.06-.94 2.06-2.06.94z\"/><path d=\"M17.41 7.96l-1.37-1.37c-.4-.4-.92-.59-1.43-.59-.52 0-1.04.2-1.43.59L10.3 9.45l-7.72 7.72c-.78.78-.78 2.05 0 2.83L4 21.41c.39.39.9.59 1.41.59.51 0 1.02-.2 1.41-.59l7.78-7.78 2.81-2.81c.8-.78.8-2.07 0-2.86zM5.41 20L4 18.59l7.72-7.72 1.47 1.35L5.41 20z\"/>\n",
              "  </svg>\n",
              "      </button>\n",
              "      \n",
              "  <style>\n",
              "    .colab-df-container {\n",
              "      display:flex;\n",
              "      flex-wrap:wrap;\n",
              "      gap: 12px;\n",
              "    }\n",
              "\n",
              "    .colab-df-convert {\n",
              "      background-color: #E8F0FE;\n",
              "      border: none;\n",
              "      border-radius: 50%;\n",
              "      cursor: pointer;\n",
              "      display: none;\n",
              "      fill: #1967D2;\n",
              "      height: 32px;\n",
              "      padding: 0 0 0 0;\n",
              "      width: 32px;\n",
              "    }\n",
              "\n",
              "    .colab-df-convert:hover {\n",
              "      background-color: #E2EBFA;\n",
              "      box-shadow: 0px 1px 2px rgba(60, 64, 67, 0.3), 0px 1px 3px 1px rgba(60, 64, 67, 0.15);\n",
              "      fill: #174EA6;\n",
              "    }\n",
              "\n",
              "    [theme=dark] .colab-df-convert {\n",
              "      background-color: #3B4455;\n",
              "      fill: #D2E3FC;\n",
              "    }\n",
              "\n",
              "    [theme=dark] .colab-df-convert:hover {\n",
              "      background-color: #434B5C;\n",
              "      box-shadow: 0px 1px 3px 1px rgba(0, 0, 0, 0.15);\n",
              "      filter: drop-shadow(0px 1px 2px rgba(0, 0, 0, 0.3));\n",
              "      fill: #FFFFFF;\n",
              "    }\n",
              "  </style>\n",
              "\n",
              "      <script>\n",
              "        const buttonEl =\n",
              "          document.querySelector('#df-d7ca5c4d-1505-4e79-b5a7-570f5f539cda button.colab-df-convert');\n",
              "        buttonEl.style.display =\n",
              "          google.colab.kernel.accessAllowed ? 'block' : 'none';\n",
              "\n",
              "        async function convertToInteractive(key) {\n",
              "          const element = document.querySelector('#df-d7ca5c4d-1505-4e79-b5a7-570f5f539cda');\n",
              "          const dataTable =\n",
              "            await google.colab.kernel.invokeFunction('convertToInteractive',\n",
              "                                                     [key], {});\n",
              "          if (!dataTable) return;\n",
              "\n",
              "          const docLinkHtml = 'Like what you see? Visit the ' +\n",
              "            '<a target=\"_blank\" href=https://colab.research.google.com/notebooks/data_table.ipynb>data table notebook</a>'\n",
              "            + ' to learn more about interactive tables.';\n",
              "          element.innerHTML = '';\n",
              "          dataTable['output_type'] = 'display_data';\n",
              "          await google.colab.output.renderOutput(dataTable, element);\n",
              "          const docLink = document.createElement('div');\n",
              "          docLink.innerHTML = docLinkHtml;\n",
              "          element.appendChild(docLink);\n",
              "        }\n",
              "      </script>\n",
              "    </div>\n",
              "  </div>\n",
              "  "
            ]
          },
          "metadata": {},
          "execution_count": 149
        }
      ]
    },
    {
      "cell_type": "code",
      "source": [
        "iqr=q.loc[0.75]-q.loc[0.25] \n",
        "iqr"
      ],
      "metadata": {
        "colab": {
          "base_uri": "https://localhost:8080/"
        },
        "id": "y8gj-_KwU171",
        "outputId": "9d0fb1e8-9ff0-484c-bfb1-4275c29e3679"
      },
      "execution_count": 150,
      "outputs": [
        {
          "output_type": "execute_result",
          "data": {
            "text/plain": [
              "Length            0.1650\n",
              "Diameter          0.1300\n",
              "Height            0.0500\n",
              "Whole weight      0.7115\n",
              "Shucked weight    0.3160\n",
              "Viscera weight    0.1595\n",
              "Shell weight      0.1990\n",
              "Rings             3.0000\n",
              "dtype: float64"
            ]
          },
          "metadata": {},
          "execution_count": 150
        }
      ]
    },
    {
      "cell_type": "code",
      "source": [
        "l=q.loc[0.25]-(1.5*iqr)\n",
        "l"
      ],
      "metadata": {
        "colab": {
          "base_uri": "https://localhost:8080/"
        },
        "id": "qeXoGkKKU1-r",
        "outputId": "8f9afc15-bd03-4c6b-960c-0576c3bd16ac"
      },
      "execution_count": 151,
      "outputs": [
        {
          "output_type": "execute_result",
          "data": {
            "text/plain": [
              "Length            0.20250\n",
              "Diameter          0.15500\n",
              "Height            0.04000\n",
              "Whole weight     -0.62575\n",
              "Shucked weight   -0.28800\n",
              "Viscera weight   -0.14575\n",
              "Shell weight     -0.16850\n",
              "Rings             3.50000\n",
              "dtype: float64"
            ]
          },
          "metadata": {},
          "execution_count": 151
        }
      ]
    },
    {
      "cell_type": "code",
      "source": [
        "u=q.loc[0.75]+(1.5*iqr)\n",
        "u"
      ],
      "metadata": {
        "colab": {
          "base_uri": "https://localhost:8080/"
        },
        "id": "zDeRReawU2BN",
        "outputId": "ec31884f-9f0b-4fe1-c482-31b4b004fb28"
      },
      "execution_count": 152,
      "outputs": [
        {
          "output_type": "execute_result",
          "data": {
            "text/plain": [
              "Length             0.86250\n",
              "Diameter           0.67500\n",
              "Height             0.24000\n",
              "Whole weight       2.22025\n",
              "Shucked weight     0.97600\n",
              "Viscera weight     0.49225\n",
              "Shell weight       0.62750\n",
              "Rings             15.50000\n",
              "dtype: float64"
            ]
          },
          "metadata": {},
          "execution_count": 152
        }
      ]
    },
    {
      "cell_type": "code",
      "source": [
        "df.mean()"
      ],
      "metadata": {
        "colab": {
          "base_uri": "https://localhost:8080/"
        },
        "id": "LrEScidBU2Dw",
        "outputId": "23913d59-02fb-4361-e9ec-0d57bf37e5bb"
      },
      "execution_count": 122,
      "outputs": [
        {
          "output_type": "stream",
          "name": "stderr",
          "text": [
            "/usr/local/lib/python3.7/dist-packages/ipykernel_launcher.py:1: FutureWarning: Dropping of nuisance columns in DataFrame reductions (with 'numeric_only=None') is deprecated; in a future version this will raise TypeError.  Select only valid columns before calling the reduction.\n",
            "  \"\"\"Entry point for launching an IPython kernel.\n"
          ]
        },
        {
          "output_type": "execute_result",
          "data": {
            "text/plain": [
              "Length            0.523992\n",
              "Diameter          0.407881\n",
              "Height            0.139516\n",
              "Whole weight      0.828742\n",
              "Shucked weight    0.359367\n",
              "Viscera weight    0.180594\n",
              "Shell weight      0.238831\n",
              "Rings             9.933684\n",
              "dtype: float64"
            ]
          },
          "metadata": {},
          "execution_count": 122
        }
      ]
    },
    {
      "cell_type": "code",
      "source": [
        "df['Rings']=np.where(df['Rings']>15.5,9.933684,df['Rings'])\n",
        "df['Rings']=np.where(df['Rings']<3.5,9.933684,df['Rings'])\n",
        "#sns.boxplot(x=data['Rings'])\n",
        "sns.boxplot(x=df['Rings'])"
      ],
      "metadata": {
        "colab": {
          "base_uri": "https://localhost:8080/",
          "height": 296
        },
        "id": "j6Pk0x0QU2Ga",
        "outputId": "30d48fa2-0fa5-4acc-e040-3fb19644430a"
      },
      "execution_count": 123,
      "outputs": [
        {
          "output_type": "execute_result",
          "data": {
            "text/plain": [
              "<matplotlib.axes._subplots.AxesSubplot at 0x7f82bd9eb190>"
            ]
          },
          "metadata": {},
          "execution_count": 123
        },
        {
          "output_type": "display_data",
          "data": {
            "text/plain": [
              "<Figure size 432x288 with 1 Axes>"
            ],
            "image/png": "[encoded data removed]"
          },
          "metadata": {
            "needs_background": "light"
          }
        }
      ]
    },
    {
      "cell_type": "code",
      "source": [
        "df.info()"
      ],
      "metadata": {
        "colab": {
          "base_uri": "https://localhost:8080/"
        },
        "id": "HXvCvXmcU2Mm",
        "outputId": "186d8081-a825-4cee-c2bc-3ec64220d0b7"
      },
      "execution_count": 153,
      "outputs": [
        {
          "output_type": "stream",
          "name": "stdout",
          "text": [
            "<class 'pandas.core.frame.DataFrame'>\n",
            "RangeIndex: 4177 entries, 0 to 4176\n",
            "Data columns (total 9 columns):\n",
            " #   Column          Non-Null Count  Dtype  \n",
            "---  ------          --------------  -----  \n",
            " 0   Sex             4177 non-null   object \n",
            " 1   Length          4177 non-null   float64\n",
            " 2   Diameter        4177 non-null   float64\n",
            " 3   Height          4177 non-null   float64\n",
            " 4   Whole weight    4177 non-null   float64\n",
            " 5   Shucked weight  4177 non-null   float64\n",
            " 6   Viscera weight  4177 non-null   float64\n",
            " 7   Shell weight    4177 non-null   float64\n",
            " 8   Rings           4177 non-null   int64  \n",
            "dtypes: float64(7), int64(1), object(1)\n",
            "memory usage: 293.8+ KB\n"
          ]
        }
      ]
    },
    {
      "cell_type": "code",
      "source": [
        "df['Sex'].unique()"
      ],
      "metadata": {
        "colab": {
          "base_uri": "https://localhost:8080/"
        },
        "id": "U-zSXqYZZXTC",
        "outputId": "c9b402ee-455c-41dc-f3bf-6b69a11e97db"
      },
      "execution_count": 154,
      "outputs": [
        {
          "output_type": "execute_result",
          "data": {
            "text/plain": [
              "array(['M', 'F', 'I'], dtype=object)"
            ]
          },
          "metadata": {},
          "execution_count": 154
        }
      ]
    },
    {
      "cell_type": "code",
      "source": [
        "df['Sex'].replace({'I':2,'M':1,'F':0},inplace=True)"
      ],
      "metadata": {
        "id": "nxPbw8kRZoPz"
      },
      "execution_count": 155,
      "outputs": []
    },
    {
      "cell_type": "code",
      "source": [
        "df"
      ],
      "metadata": {
        "colab": {
          "base_uri": "https://localhost:8080/",
          "height": 424
        },
        "id": "yIVKACfdZoSM",
        "outputId": "32d061ca-bd35-48c2-8911-416770cc3625"
      },
      "execution_count": 156,
      "outputs": [
        {
          "output_type": "execute_result",
          "data": {
            "text/plain": [
              "      Sex  Length  Diameter  Height  Whole weight  Shucked weight  \\\n",
              "0       1   0.455     0.365   0.095        0.5140          0.2245   \n",
              "1       1   0.350     0.265   0.090        0.2255          0.0995   \n",
              "2       0   0.530     0.420   0.135        0.6770          0.2565   \n",
              "3       1   0.440     0.365   0.125        0.5160          0.2155   \n",
              "4       2   0.330     0.255   0.080        0.2050          0.0895   \n",
              "...   ...     ...       ...     ...           ...             ...   \n",
              "4172    0   0.565     0.450   0.165        0.8870          0.3700   \n",
              "4173    1   0.590     0.440   0.135        0.9660          0.4390   \n",
              "4174    1   0.600     0.475   0.205        1.1760          0.5255   \n",
              "4175    0   0.625     0.485   0.150        1.0945          0.5310   \n",
              "4176    1   0.710     0.555   0.195        1.9485          0.9455   \n",
              "\n",
              "      Viscera weight  Shell weight  Rings  \n",
              "0             0.1010        0.1500     15  \n",
              "1             0.0485        0.0700      7  \n",
              "2             0.1415        0.2100      9  \n",
              "3             0.1140        0.1550     10  \n",
              "4             0.0395        0.0550      7  \n",
              "...              ...           ...    ...  \n",
              "4172          0.2390        0.2490     11  \n",
              "4173          0.2145        0.2605     10  \n",
              "4174          0.2875        0.3080      9  \n",
              "4175          0.2610        0.2960     10  \n",
              "4176          0.3765        0.4950     12  \n",
              "\n",
              "[4177 rows x 9 columns]"
            ],
            "text/html": [
              "\n",
              "  <div id=\"df-9145d62b-6847-4a71-ba4f-7e421c0fef26\">\n",
              "    <div class=\"colab-df-container\">\n",
              "      <div>\n",
              "<style scoped>\n",
              "    .dataframe tbody tr th:only-of-type {\n",
              "        vertical-align: middle;\n",
              "    }\n",
              "\n",
              "    .dataframe tbody tr th {\n",
              "        vertical-align: top;\n",
              "    }\n",
              "\n",
              "    .dataframe thead th {\n",
              "        text-align: right;\n",
              "    }\n",
              "</style>\n",
              "<table border=\"1\" class=\"dataframe\">\n",
              "  <thead>\n",
              "    <tr style=\"text-align: right;\">\n",
              "      <th></th>\n",
              "      <th>Sex</th>\n",
              "      <th>Length</th>\n",
              "      <th>Diameter</th>\n",
              "      <th>Height</th>\n",
              "      <th>Whole weight</th>\n",
              "      <th>Shucked weight</th>\n",
              "      <th>Viscera weight</th>\n",
              "      <th>Shell weight</th>\n",
              "      <th>Rings</th>\n",
              "    </tr>\n",
              "  </thead>\n",
              "  <tbody>\n",
              "    <tr>\n",
              "      <th>0</th>\n",
              "      <td>1</td>\n",
              "      <td>0.455</td>\n",
              "      <td>0.365</td>\n",
              "      <td>0.095</td>\n",
              "      <td>0.5140</td>\n",
              "      <td>0.2245</td>\n",
              "      <td>0.1010</td>\n",
              "      <td>0.1500</td>\n",
              "      <td>15</td>\n",
              "    </tr>\n",
              "    <tr>\n",
              "      <th>1</th>\n",
              "      <td>1</td>\n",
              "      <td>0.350</td>\n",
              "      <td>0.265</td>\n",
              "      <td>0.090</td>\n",
              "      <td>0.2255</td>\n",
              "      <td>0.0995</td>\n",
              "      <td>0.0485</td>\n",
              "      <td>0.0700</td>\n",
              "      <td>7</td>\n",
              "    </tr>\n",
              "    <tr>\n",
              "      <th>2</th>\n",
              "      <td>0</td>\n",
              "      <td>0.530</td>\n",
              "      <td>0.420</td>\n",
              "      <td>0.135</td>\n",
              "      <td>0.6770</td>\n",
              "      <td>0.2565</td>\n",
              "      <td>0.1415</td>\n",
              "      <td>0.2100</td>\n",
              "      <td>9</td>\n",
              "    </tr>\n",
              "    <tr>\n",
              "      <th>3</th>\n",
              "      <td>1</td>\n",
              "      <td>0.440</td>\n",
              "      <td>0.365</td>\n",
              "      <td>0.125</td>\n",
              "      <td>0.5160</td>\n",
              "      <td>0.2155</td>\n",
              "      <td>0.1140</td>\n",
              "      <td>0.1550</td>\n",
              "      <td>10</td>\n",
              "    </tr>\n",
              "    <tr>\n",
              "      <th>4</th>\n",
              "      <td>2</td>\n",
              "      <td>0.330</td>\n",
              "      <td>0.255</td>\n",
              "      <td>0.080</td>\n",
              "      <td>0.2050</td>\n",
              "      <td>0.0895</td>\n",
              "      <td>0.0395</td>\n",
              "      <td>0.0550</td>\n",
              "      <td>7</td>\n",
              "    </tr>\n",
              "    <tr>\n",
              "      <th>...</th>\n",
              "      <td>...</td>\n",
              "      <td>...</td>\n",
              "      <td>...</td>\n",
              "      <td>...</td>\n",
              "      <td>...</td>\n",
              "      <td>...</td>\n",
              "      <td>...</td>\n",
              "      <td>...</td>\n",
              "      <td>...</td>\n",
              "    </tr>\n",
              "    <tr>\n",
              "      <th>4172</th>\n",
              "      <td>0</td>\n",
              "      <td>0.565</td>\n",
              "      <td>0.450</td>\n",
              "      <td>0.165</td>\n",
              "      <td>0.8870</td>\n",
              "      <td>0.3700</td>\n",
              "      <td>0.2390</td>\n",
              "      <td>0.2490</td>\n",
              "      <td>11</td>\n",
              "    </tr>\n",
              "    <tr>\n",
              "      <th>4173</th>\n",
              "      <td>1</td>\n",
              "      <td>0.590</td>\n",
              "      <td>0.440</td>\n",
              "      <td>0.135</td>\n",
              "      <td>0.9660</td>\n",
              "      <td>0.4390</td>\n",
              "      <td>0.2145</td>\n",
              "      <td>0.2605</td>\n",
              "      <td>10</td>\n",
              "    </tr>\n",
              "    <tr>\n",
              "      <th>4174</th>\n",
              "      <td>1</td>\n",
              "      <td>0.600</td>\n",
              "      <td>0.475</td>\n",
              "      <td>0.205</td>\n",
              "      <td>1.1760</td>\n",
              "      <td>0.5255</td>\n",
              "      <td>0.2875</td>\n",
              "      <td>0.3080</td>\n",
              "      <td>9</td>\n",
              "    </tr>\n",
              "    <tr>\n",
              "      <th>4175</th>\n",
              "      <td>0</td>\n",
              "      <td>0.625</td>\n",
              "      <td>0.485</td>\n",
              "      <td>0.150</td>\n",
              "      <td>1.0945</td>\n",
              "      <td>0.5310</td>\n",
              "      <td>0.2610</td>\n",
              "      <td>0.2960</td>\n",
              "      <td>10</td>\n",
              "    </tr>\n",
              "    <tr>\n",
              "      <th>4176</th>\n",
              "      <td>1</td>\n",
              "      <td>0.710</td>\n",
              "      <td>0.555</td>\n",
              "      <td>0.195</td>\n",
              "      <td>1.9485</td>\n",
              "      <td>0.9455</td>\n",
              "      <td>0.3765</td>\n",
              "      <td>0.4950</td>\n",
              "      <td>12</td>\n",
              "    </tr>\n",
              "  </tbody>\n",
              "</table>\n",
              "<p>4177 rows × 9 columns</p>\n",
              "</div>\n",
              "      <button class=\"colab-df-convert\" onclick=\"convertToInteractive('df-9145d62b-6847-4a71-ba4f-7e421c0fef26')\"\n",
              "              title=\"Convert this dataframe to an interactive table.\"\n",
              "              style=\"display:none;\">\n",
              "        \n",
              "  <svg xmlns=\"http://www.w3.org/2000/svg\" height=\"24px\"viewBox=\"0 0 24 24\"\n",
              "       width=\"24px\">\n",
              "    <path d=\"M0 0h24v24H0V0z\" fill=\"none\"/>\n",
              "    <path d=\"M18.56 5.44l.94 2.06.94-2.06 2.06-.94-2.06-.94-.94-2.06-.94 2.06-2.06.94zm-11 1L8.5 8.5l.94-2.06 2.06-.94-2.06-.94L8.5 2.5l-.94 2.06-2.06.94zm10 10l.94 2.06.94-2.06 2.06-.94-2.06-.94-.94-2.06-.94 2.06-2.06.94z\"/><path d=\"M17.41 7.96l-1.37-1.37c-.4-.4-.92-.59-1.43-.59-.52 0-1.04.2-1.43.59L10.3 9.45l-7.72 7.72c-.78.78-.78 2.05 0 2.83L4 21.41c.39.39.9.59 1.41.59.51 0 1.02-.2 1.41-.59l7.78-7.78 2.81-2.81c.8-.78.8-2.07 0-2.86zM5.41 20L4 18.59l7.72-7.72 1.47 1.35L5.41 20z\"/>\n",
              "  </svg>\n",
              "      </button>\n",
              "      \n",
              "  <style>\n",
              "    .colab-df-container {\n",
              "      display:flex;\n",
              "      flex-wrap:wrap;\n",
              "      gap: 12px;\n",
              "    }\n",
              "\n",
              "    .colab-df-convert {\n",
              "      background-color: #E8F0FE;\n",
              "      border: none;\n",
              "      border-radius: 50%;\n",
              "      cursor: pointer;\n",
              "      display: none;\n",
              "      fill: #1967D2;\n",
              "      height: 32px;\n",
              "      padding: 0 0 0 0;\n",
              "      width: 32px;\n",
              "    }\n",
              "\n",
              "    .colab-df-convert:hover {\n",
              "      background-color: #E2EBFA;\n",
              "      box-shadow: 0px 1px 2px rgba(60, 64, 67, 0.3), 0px 1px 3px 1px rgba(60, 64, 67, 0.15);\n",
              "      fill: #174EA6;\n",
              "    }\n",
              "\n",
              "    [theme=dark] .colab-df-convert {\n",
              "      background-color: #3B4455;\n",
              "      fill: #D2E3FC;\n",
              "    }\n",
              "\n",
              "    [theme=dark] .colab-df-convert:hover {\n",
              "      background-color: #434B5C;\n",
              "      box-shadow: 0px 1px 3px 1px rgba(0, 0, 0, 0.15);\n",
              "      filter: drop-shadow(0px 1px 2px rgba(0, 0, 0, 0.3));\n",
              "      fill: #FFFFFF;\n",
              "    }\n",
              "  </style>\n",
              "\n",
              "      <script>\n",
              "        const buttonEl =\n",
              "          document.querySelector('#df-9145d62b-6847-4a71-ba4f-7e421c0fef26 button.colab-df-convert');\n",
              "        buttonEl.style.display =\n",
              "          google.colab.kernel.accessAllowed ? 'block' : 'none';\n",
              "\n",
              "        async function convertToInteractive(key) {\n",
              "          const element = document.querySelector('#df-9145d62b-6847-4a71-ba4f-7e421c0fef26');\n",
              "          const dataTable =\n",
              "            await google.colab.kernel.invokeFunction('convertToInteractive',\n",
              "                                                     [key], {});\n",
              "          if (!dataTable) return;\n",
              "\n",
              "          const docLinkHtml = 'Like what you see? Visit the ' +\n",
              "            '<a target=\"_blank\" href=https://colab.research.google.com/notebooks/data_table.ipynb>data table notebook</a>'\n",
              "            + ' to learn more about interactive tables.';\n",
              "          element.innerHTML = '';\n",
              "          dataTable['output_type'] = 'display_data';\n",
              "          await google.colab.output.renderOutput(dataTable, element);\n",
              "          const docLink = document.createElement('div');\n",
              "          docLink.innerHTML = docLinkHtml;\n",
              "          element.appendChild(docLink);\n",
              "        }\n",
              "      </script>\n",
              "    </div>\n",
              "  </div>\n",
              "  "
            ]
          },
          "metadata": {},
          "execution_count": 156
        }
      ]
    },
    {
      "cell_type": "code",
      "source": [
        "y=df['Rings']\n",
        "y"
      ],
      "metadata": {
        "colab": {
          "base_uri": "https://localhost:8080/"
        },
        "id": "kwbXs0zNZoUp",
        "outputId": "03bd5e0b-a983-457c-caef-c0604f9d7f8e"
      },
      "execution_count": 157,
      "outputs": [
        {
          "output_type": "execute_result",
          "data": {
            "text/plain": [
              "0       15\n",
              "1        7\n",
              "2        9\n",
              "3       10\n",
              "4        7\n",
              "        ..\n",
              "4172    11\n",
              "4173    10\n",
              "4174     9\n",
              "4175    10\n",
              "4176    12\n",
              "Name: Rings, Length: 4177, dtype: int64"
            ]
          },
          "metadata": {},
          "execution_count": 157
        }
      ]
    },
    {
      "cell_type": "code",
      "source": [
        "x=df.drop(columns=['Shucked weight','Viscera weight', 'Rings'],axis=1)\n",
        "x.head()"
      ],
      "metadata": {
        "colab": {
          "base_uri": "https://localhost:8080/",
          "height": 206
        },
        "id": "eTBvdupuZoXV",
        "outputId": "8512039f-f352-4c02-c3e9-8c5edd25c398"
      },
      "execution_count": 158,
      "outputs": [
        {
          "output_type": "execute_result",
          "data": {
            "text/plain": [
              "   Sex  Length  Diameter  Height  Whole weight  Shell weight\n",
              "0    1   0.455     0.365   0.095        0.5140         0.150\n",
              "1    1   0.350     0.265   0.090        0.2255         0.070\n",
              "2    0   0.530     0.420   0.135        0.6770         0.210\n",
              "3    1   0.440     0.365   0.125        0.5160         0.155\n",
              "4    2   0.330     0.255   0.080        0.2050         0.055"
            ],
            "text/html": [
              "\n",
              "  <div id=\"df-d7d6afca-7110-4178-bb76-99609e2cd93a\">\n",
              "    <div class=\"colab-df-container\">\n",
              "      <div>\n",
              "<style scoped>\n",
              "    .dataframe tbody tr th:only-of-type {\n",
              "        vertical-align: middle;\n",
              "    }\n",
              "\n",
              "    .dataframe tbody tr th {\n",
              "        vertical-align: top;\n",
              "    }\n",
              "\n",
              "    .dataframe thead th {\n",
              "        text-align: right;\n",
              "    }\n",
              "</style>\n",
              "<table border=\"1\" class=\"dataframe\">\n",
              "  <thead>\n",
              "    <tr style=\"text-align: right;\">\n",
              "      <th></th>\n",
              "      <th>Sex</th>\n",
              "      <th>Length</th>\n",
              "      <th>Diameter</th>\n",
              "      <th>Height</th>\n",
              "      <th>Whole weight</th>\n",
              "      <th>Shell weight</th>\n",
              "    </tr>\n",
              "  </thead>\n",
              "  <tbody>\n",
              "    <tr>\n",
              "      <th>0</th>\n",
              "      <td>1</td>\n",
              "      <td>0.455</td>\n",
              "      <td>0.365</td>\n",
              "      <td>0.095</td>\n",
              "      <td>0.5140</td>\n",
              "      <td>0.150</td>\n",
              "    </tr>\n",
              "    <tr>\n",
              "      <th>1</th>\n",
              "      <td>1</td>\n",
              "      <td>0.350</td>\n",
              "      <td>0.265</td>\n",
              "      <td>0.090</td>\n",
              "      <td>0.2255</td>\n",
              "      <td>0.070</td>\n",
              "    </tr>\n",
              "    <tr>\n",
              "      <th>2</th>\n",
              "      <td>0</td>\n",
              "      <td>0.530</td>\n",
              "      <td>0.420</td>\n",
              "      <td>0.135</td>\n",
              "      <td>0.6770</td>\n",
              "      <td>0.210</td>\n",
              "    </tr>\n",
              "    <tr>\n",
              "      <th>3</th>\n",
              "      <td>1</td>\n",
              "      <td>0.440</td>\n",
              "      <td>0.365</td>\n",
              "      <td>0.125</td>\n",
              "      <td>0.5160</td>\n",
              "      <td>0.155</td>\n",
              "    </tr>\n",
              "    <tr>\n",
              "      <th>4</th>\n",
              "      <td>2</td>\n",
              "      <td>0.330</td>\n",
              "      <td>0.255</td>\n",
              "      <td>0.080</td>\n",
              "      <td>0.2050</td>\n",
              "      <td>0.055</td>\n",
              "    </tr>\n",
              "  </tbody>\n",
              "</table>\n",
              "</div>\n",
              "      <button class=\"colab-df-convert\" onclick=\"convertToInteractive('df-d7d6afca-7110-4178-bb76-99609e2cd93a')\"\n",
              "              title=\"Convert this dataframe to an interactive table.\"\n",
              "              style=\"display:none;\">\n",
              "        \n",
              "  <svg xmlns=\"http://www.w3.org/2000/svg\" height=\"24px\"viewBox=\"0 0 24 24\"\n",
              "       width=\"24px\">\n",
              "    <path d=\"M0 0h24v24H0V0z\" fill=\"none\"/>\n",
              "    <path d=\"M18.56 5.44l.94 2.06.94-2.06 2.06-.94-2.06-.94-.94-2.06-.94 2.06-2.06.94zm-11 1L8.5 8.5l.94-2.06 2.06-.94-2.06-.94L8.5 2.5l-.94 2.06-2.06.94zm10 10l.94 2.06.94-2.06 2.06-.94-2.06-.94-.94-2.06-.94 2.06-2.06.94z\"/><path d=\"M17.41 7.96l-1.37-1.37c-.4-.4-.92-.59-1.43-.59-.52 0-1.04.2-1.43.59L10.3 9.45l-7.72 7.72c-.78.78-.78 2.05 0 2.83L4 21.41c.39.39.9.59 1.41.59.51 0 1.02-.2 1.41-.59l7.78-7.78 2.81-2.81c.8-.78.8-2.07 0-2.86zM5.41 20L4 18.59l7.72-7.72 1.47 1.35L5.41 20z\"/>\n",
              "  </svg>\n",
              "      </button>\n",
              "      \n",
              "  <style>\n",
              "    .colab-df-container {\n",
              "      display:flex;\n",
              "      flex-wrap:wrap;\n",
              "      gap: 12px;\n",
              "    }\n",
              "\n",
              "    .colab-df-convert {\n",
              "      background-color: #E8F0FE;\n",
              "      border: none;\n",
              "      border-radius: 50%;\n",
              "      cursor: pointer;\n",
              "      display: none;\n",
              "      fill: #1967D2;\n",
              "      height: 32px;\n",
              "      padding: 0 0 0 0;\n",
              "      width: 32px;\n",
              "    }\n",
              "\n",
              "    .colab-df-convert:hover {\n",
              "      background-color: #E2EBFA;\n",
              "      box-shadow: 0px 1px 2px rgba(60, 64, 67, 0.3), 0px 1px 3px 1px rgba(60, 64, 67, 0.15);\n",
              "      fill: #174EA6;\n",
              "    }\n",
              "\n",
              "    [theme=dark] .colab-df-convert {\n",
              "      background-color: #3B4455;\n",
              "      fill: #D2E3FC;\n",
              "    }\n",
              "\n",
              "    [theme=dark] .colab-df-convert:hover {\n",
              "      background-color: #434B5C;\n",
              "      box-shadow: 0px 1px 3px 1px rgba(0, 0, 0, 0.15);\n",
              "      filter: drop-shadow(0px 1px 2px rgba(0, 0, 0, 0.3));\n",
              "      fill: #FFFFFF;\n",
              "    }\n",
              "  </style>\n",
              "\n",
              "      <script>\n",
              "        const buttonEl =\n",
              "          document.querySelector('#df-d7d6afca-7110-4178-bb76-99609e2cd93a button.colab-df-convert');\n",
              "        buttonEl.style.display =\n",
              "          google.colab.kernel.accessAllowed ? 'block' : 'none';\n",
              "\n",
              "        async function convertToInteractive(key) {\n",
              "          const element = document.querySelector('#df-d7d6afca-7110-4178-bb76-99609e2cd93a');\n",
              "          const dataTable =\n",
              "            await google.colab.kernel.invokeFunction('convertToInteractive',\n",
              "                                                     [key], {});\n",
              "          if (!dataTable) return;\n",
              "\n",
              "          const docLinkHtml = 'Like what you see? Visit the ' +\n",
              "            '<a target=\"_blank\" href=https://colab.research.google.com/notebooks/data_table.ipynb>data table notebook</a>'\n",
              "            + ' to learn more about interactive tables.';\n",
              "          element.innerHTML = '';\n",
              "          dataTable['output_type'] = 'display_data';\n",
              "          await google.colab.output.renderOutput(dataTable, element);\n",
              "          const docLink = document.createElement('div');\n",
              "          docLink.innerHTML = docLinkHtml;\n",
              "          element.appendChild(docLink);\n",
              "        }\n",
              "      </script>\n",
              "    </div>\n",
              "  </div>\n",
              "  "
            ]
          },
          "metadata": {},
          "execution_count": 158
        }
      ]
    },
    {
      "cell_type": "code",
      "source": [
        "from sklearn.preprocessing import scale"
      ],
      "metadata": {
        "id": "gEuA8k97ZoZR"
      },
      "execution_count": 159,
      "outputs": []
    },
    {
      "cell_type": "code",
      "source": [
        "x=scale(x)\n",
        "x"
      ],
      "metadata": {
        "colab": {
          "base_uri": "https://localhost:8080/"
        },
        "id": "dCN8P35FZocy",
        "outputId": "91c960e2-12b4-46ce-d9d5-2ba842b23c09"
      },
      "execution_count": 160,
      "outputs": [
        {
          "output_type": "execute_result",
          "data": {
            "text/plain": [
              "array([[-0.0105225 , -0.57455813, -0.43214879, -1.06442415, -0.64189823,\n",
              "        -0.63821689],\n",
              "       [-0.0105225 , -1.44898585, -1.439929  , -1.18397831, -1.23027711,\n",
              "        -1.21298732],\n",
              "       [-1.26630752,  0.05003309,  0.12213032, -0.10799087, -0.30946926,\n",
              "        -0.20713907],\n",
              "       ...,\n",
              "       [-0.0105225 ,  0.6329849 ,  0.67640943,  1.56576738,  0.70821206,\n",
              "         0.49695471],\n",
              "       [-1.26630752,  0.84118198,  0.77718745,  0.25067161,  0.54199757,\n",
              "         0.41073914],\n",
              "       [-0.0105225 ,  1.54905203,  1.48263359,  1.32665906,  2.28368063,\n",
              "         1.84048058]])"
            ]
          },
          "metadata": {},
          "execution_count": 160
        }
      ]
    },
    {
      "cell_type": "code",
      "source": [
        "from sklearn.model_selection import train_test_split"
      ],
      "metadata": {
        "id": "f_E-2lx8a4Lt"
      },
      "execution_count": 161,
      "outputs": []
    },
    {
      "cell_type": "code",
      "source": [
        "x_train,x_test,y_train,y_test=train_test_split(x,y,test_size=0.2,random_state=0)"
      ],
      "metadata": {
        "id": "2L6WWbiXbBzo"
      },
      "execution_count": 162,
      "outputs": []
    },
    {
      "cell_type": "code",
      "source": [
        "from sklearn.linear_model import LinearRegression"
      ],
      "metadata": {
        "id": "vEVxe--Dbfrl"
      },
      "execution_count": 163,
      "outputs": []
    },
    {
      "cell_type": "code",
      "source": [
        "regressor=LinearRegression()\n",
        "#splitting data into xtrain and ytrain\n",
        "regressor.fit(x_train,y_train)"
      ],
      "metadata": {
        "colab": {
          "base_uri": "https://localhost:8080/"
        },
        "id": "AfXONPotbfuK",
        "outputId": "d2c20801-3842-4354-a4f0-a55282c33d68"
      },
      "execution_count": 164,
      "outputs": [
        {
          "output_type": "execute_result",
          "data": {
            "text/plain": [
              "LinearRegression()"
            ]
          },
          "metadata": {},
          "execution_count": 164
        }
      ]
    },
    {
      "cell_type": "code",
      "source": [
        "#predicting on test data\n",
        "y_pred=regressor.predict(x_test)\n",
        "#call the var\n",
        "y_pred"
      ],
      "metadata": {
        "colab": {
          "base_uri": "https://localhost:8080/"
        },
        "id": "hN1sObXibfxh",
        "outputId": "e09c21d9-713b-4f75-efa0-f998bd9f027e"
      },
      "execution_count": 165,
      "outputs": [
        {
          "output_type": "execute_result",
          "data": {
            "text/plain": [
              "array([12.12738069,  9.37393524, 10.11137397,  5.85551711, 10.49209322,\n",
              "       12.20106396,  8.22774291,  9.11522161,  8.0756103 , 11.50611872,\n",
              "        7.99322309,  6.33962716,  8.50436177,  9.20443615,  6.28798754,\n",
              "       10.54106757,  7.95295041, 12.03893788, 11.70389463,  7.91582072,\n",
              "        7.6620856 ,  6.60709271,  8.86640179,  7.95306049,  9.57613787,\n",
              "       10.68964961,  5.55821124, 11.76173241,  9.85704241, 11.14695203,\n",
              "        8.04791568,  5.07275432, 11.75191969, 13.64577043,  7.3785493 ,\n",
              "        8.3952055 ,  8.56887249, 10.83967898,  8.4123622 , 12.59447621,\n",
              "       10.49557215,  9.87718264, 11.02049546, 10.26838478, 12.1920312 ,\n",
              "        9.31467646,  9.69452119, 13.70730461, 11.92387365,  7.9185799 ,\n",
              "       12.34349874,  7.08962511,  9.42759968, 13.54634978,  9.79878886,\n",
              "        8.09052855,  6.65441059,  7.71906695,  7.32118915,  7.11691681,\n",
              "        9.67984037,  9.37551886,  9.62869124,  7.93224467,  7.78480734,\n",
              "       12.83366973, 12.64473628, 12.70142269,  9.03975362, 14.40920442,\n",
              "        9.27537425, 17.52711893, 11.93409212,  9.91495848,  9.90244753,\n",
              "        8.84379856, 10.38305522, 10.54536535, 11.70756147,  8.77991355,\n",
              "       10.33744754,  6.18156011,  7.57642578, 12.89110399,  9.85932655,\n",
              "        8.07036127, 10.31799415, 12.13072173,  5.37459888,  7.2004248 ,\n",
              "        9.87643654, 10.87492413,  8.44481488,  6.92124489, 11.52083151,\n",
              "        6.33110866,  9.37601549,  7.74555948, 12.89854071, 10.53327308,\n",
              "       10.94156181, 10.5609266 , 11.21688901, 11.57663303,  5.90098215,\n",
              "       10.42290073,  7.85680828,  7.05091597,  7.77478556, 10.31344476,\n",
              "       11.03786319, 11.56017866, 10.92785625,  9.45169015, 12.85931601,\n",
              "       11.31373578, 12.15129022, 10.04742296,  5.25523469,  9.25660393,\n",
              "        7.31642735, 12.36121778,  7.02300123,  9.13672226, 10.73843062,\n",
              "       12.70373622, 11.34280387, 11.6455296 ,  7.72906627, 11.137847  ,\n",
              "       10.96704455,  8.65936594,  8.92310408, 11.49157884, 12.97218319,\n",
              "       11.11539486,  9.5345435 ,  8.4997688 ,  7.30449341, 13.58054074,\n",
              "       11.27606915, 10.35658334,  7.12372269,  9.40106812, 12.03465792,\n",
              "       10.25433682,  9.1184701 ,  7.89264975,  8.25058798,  6.65339916,\n",
              "        8.92858732, 10.74622585,  7.06778582, 11.21764155,  7.64024639,\n",
              "        6.9355481 , 11.11371397,  7.08580786, 12.11328012,  7.93743455,\n",
              "       10.60736864,  7.44246408,  9.69145103, 11.48866555,  5.72392692,\n",
              "       11.59569432,  7.25479886,  6.64876458, 11.23185655,  9.47347002,\n",
              "        9.09240148,  5.96014804,  8.71291184, 10.52925117, 12.59532925,\n",
              "       11.50129951,  5.98819886,  8.48421104,  8.06478096, 11.22674345,\n",
              "        9.04976394, 11.47705112,  8.76610866,  8.76889281, 11.67270512,\n",
              "       10.15694951,  9.79398676,  8.7000739 ,  6.89992443,  8.82481212,\n",
              "       10.46452289, 10.05991946,  9.0380346 , 10.40351973, 11.05401159,\n",
              "        9.81870093,  7.75867254,  9.17581011,  5.54714388, 12.83147749,\n",
              "        9.71503179, 10.61312824, 13.96843039, 10.00586866, 10.47865801,\n",
              "       13.50613498,  6.75496937, 12.86780568,  9.38638472, 11.29585483,\n",
              "        5.9330901 ,  9.77699785, 10.78549985, 10.30882608, 10.98316962,\n",
              "       10.24102774, 10.13192456, 10.38625092,  6.01047465, 12.45260381,\n",
              "        9.16269406, 11.41733883,  8.33297359, 10.75889703, 12.35498444,\n",
              "       13.22421605, 11.71217696, 10.2176269 , 12.61100751,  9.78643823,\n",
              "        9.46422337,  8.44540737,  6.26255007, 11.74466258,  8.14952847,\n",
              "       12.01064586,  8.44932532,  5.90202181,  9.36304794, 10.19511841,\n",
              "        9.38930301, 10.85875095, 11.39400117, 10.99702227, 10.41428662,\n",
              "        9.79224526,  9.6373781 ,  8.12960341,  8.62605326, 14.03621392,\n",
              "       11.89831311,  8.36861583, 13.40667241, 10.93394986, 10.58606731,\n",
              "       11.4335347 ,  7.29899582,  9.16186285, 10.37067268, 14.46049956,\n",
              "       11.45602996,  9.2177357 , 10.5985808 ,  7.33056999,  9.55841271,\n",
              "        8.39325666,  9.46730587,  7.31594237,  7.74635269,  7.60759683,\n",
              "       10.31336502,  8.79066288,  8.2330087 ,  8.33306451,  6.59428022,\n",
              "       11.82143643, 12.65220627,  8.40470946, 10.59303233,  9.97519713,\n",
              "        7.39502204, 11.36644296,  7.64620681,  9.93483797, 10.40118922,\n",
              "       11.04418417,  7.5324828 , 11.22621207, 10.55413667, 12.6622391 ,\n",
              "        8.20303317,  8.78759324,  6.30208288,  9.80418622,  7.18414826,\n",
              "        7.96544729,  6.80837469,  6.27913281,  9.73319926, 15.36852067,\n",
              "        9.22238267,  8.46154265, 13.36794338,  9.61524174,  9.25989534,\n",
              "        8.56907642,  9.64552719, 10.52830965, 11.2421579 , 10.32513553,\n",
              "        9.89373566, 11.37092694,  8.15951205, 10.08595544, 13.71549005,\n",
              "       12.05222963,  8.52338545,  6.84156469,  8.26716868, 10.58615886,\n",
              "       11.64630249, 10.03133672,  9.71481208, 11.32337616, 12.39773256,\n",
              "       10.24997778,  9.04825494,  9.92727099, 14.05722997, 10.20999758,\n",
              "        8.81466066, 11.14543443,  5.31631178, 11.44868309, 10.1278266 ,\n",
              "       11.05747627,  7.8467931 ,  9.42532223, 11.5058355 , 10.28919181,\n",
              "        9.47749631,  9.55400582, 11.41285997, 11.59975116, 12.06092892,\n",
              "        7.35203312,  6.26636893, 11.15375381, 13.17537144,  7.4793269 ,\n",
              "        6.4744817 ,  9.14425408, 12.11963088,  8.72754492, 10.63240896,\n",
              "        9.24546023, 11.46377278, 10.46017844,  8.25832267, 10.61376718,\n",
              "        8.36413716, 10.23546845,  7.99082695,  9.36015562,  9.70462703,\n",
              "        7.02168325,  6.61078211,  8.81329302,  8.30205613, 10.38644227,\n",
              "       11.19031588,  7.5550606 , 11.78889616,  7.96136476, 11.67250611,\n",
              "       12.13471111, 13.08960821,  7.88833   , 11.35345874,  5.43658557,\n",
              "        9.35682156,  9.9971438 ,  9.64557568, 12.55291943,  6.80033283,\n",
              "       10.83345104, 16.34420349,  9.43992707,  7.82294133,  6.71854345,\n",
              "       14.1265119 , 10.78467195,  8.9976826 ,  9.43922545, 18.47011903,\n",
              "        7.49704356, 11.47909217,  9.13819436, 11.41603983, 10.18106249,\n",
              "        8.41444748,  9.32126217,  7.19013237, 13.47543404,  9.07344095,\n",
              "       11.52343586,  6.755082  , 13.12963008, 14.53949828, 10.18546289,\n",
              "        9.57365359,  7.87263393, 11.29781823, 10.59223118, 11.53786541,\n",
              "       11.03064849,  9.90070147, 11.27419725, 13.27271229, 10.9549702 ,\n",
              "        9.29375425,  9.23415293, 11.21256418, 11.46968461,  6.18195384,\n",
              "        9.01670911, 10.88324555, 10.9444915 , 11.97292255, 12.75685426,\n",
              "        9.5953968 , 10.64405543,  9.5047858 , 12.91072117,  8.82679816,\n",
              "        9.6914563 , 11.96641882, 11.07709454,  9.82161849, 10.12964024,\n",
              "        8.18716673,  6.96220462, 13.47031005,  8.53625273,  6.92150226,\n",
              "        7.36156937, 12.1810646 ,  5.89290595,  9.6498436 , 11.79921786,\n",
              "        5.60972513,  6.97762414, 10.0485642 ,  7.05168456,  6.25335378,\n",
              "        8.54588323, 10.9321681 , 10.15577413,  9.50311024, 12.33494717,\n",
              "        7.44715325, 13.93037764,  8.47141686, 11.12615586,  9.50423702,\n",
              "       13.24239901,  7.22027852, 14.80771012, 10.33810012,  8.60547239,\n",
              "        6.3432319 , 10.2477069 ,  7.74351041, 14.41771851,  8.83749163,\n",
              "        9.30365301,  8.05484303,  7.81721729,  7.81493299,  9.02963001,\n",
              "       10.60970061, 13.42561531,  8.90083013, 11.79234247, 13.72070541,\n",
              "       12.05715754, 11.09245947, 10.05282457,  7.89775036, 11.88807364,\n",
              "        5.52196251,  9.72640109, 11.30459743, 10.50116544,  7.05361026,\n",
              "        7.44556623,  8.24614811,  6.43823871, 10.47788901,  9.69639776,\n",
              "        8.79756841, 10.9291417 ,  7.06196845, 12.04854663, 10.12346707,\n",
              "       10.85700625, 11.44448018, 13.74704266,  7.83415382,  6.11162656,\n",
              "       10.24928688,  9.6736718 , 13.1170243 , 12.9467081 ,  9.35016462,\n",
              "        8.11262851, 10.6062521 , 11.40393076, 15.08281185, 10.48674932,\n",
              "       10.19482775, 10.0814365 , 11.46425492, 10.52106613,  7.23763722,\n",
              "       14.12445452,  9.80826451, 10.34614361,  8.62651069,  8.44310116,\n",
              "        8.48367658,  7.84421665,  9.2008994 , 10.88119513,  5.69817193,\n",
              "        9.55719915, 12.18850822, 12.89555321,  9.29576925, 12.53321828,\n",
              "        7.70274386, 10.90489027,  7.88930395, 11.91258071,  7.9121413 ,\n",
              "       10.61068156,  8.12246546,  9.17628603, 10.37621492, 10.47277401,\n",
              "       11.44879151, 14.126616  ,  7.52909576,  9.77105605, 10.63056152,\n",
              "        8.09226488,  9.05636401,  9.70908378, 11.2848914 , 10.80912748,\n",
              "       12.01397712, 10.44887291, 12.15523159, 10.14377303, 11.88418835,\n",
              "        6.65217465,  8.78565208,  8.32048096, 10.23206457,  7.99959728,\n",
              "       11.16250888,  9.37824068,  8.42070677,  9.57102011,  8.62603124,\n",
              "        7.8375484 , 10.97964582, 10.29223466, 11.93420392,  5.37584184,\n",
              "       12.85412803,  6.35465724,  5.99449385,  6.51206119,  9.25649057,\n",
              "       10.08001644, 21.08083867, 10.96005513,  9.03994853, 12.90038724,\n",
              "        6.14567549,  9.01866015, 11.27164089,  7.7541302 , 11.14987755,\n",
              "       11.21601827,  5.11653204,  7.92522514,  6.6076836 , 11.52350122,\n",
              "        8.86340695, 12.68800347, 10.64838829,  9.98029468, 11.66367735,\n",
              "       10.1823979 ,  9.73113878,  7.29800616,  9.55297346, 11.76577148,\n",
              "        7.34866981, 13.38621946, 10.70871821,  9.12068418, 10.64332936,\n",
              "       12.53942997,  8.5179525 ,  7.64777528, 14.44611799, 10.16986007,\n",
              "       10.90178622, 13.12703628,  7.10730352,  9.98775789, 11.1521371 ,\n",
              "       12.12054227,  8.51912217, 12.07445361,  8.95244708, 10.20566393,\n",
              "        9.7801623 ,  7.23139908,  8.75052213,  8.45024804,  8.53171055,\n",
              "        9.98313745,  5.81039324, 13.73905236,  9.17322205,  9.80302523,\n",
              "        9.66436698, 10.21734748, 11.3243746 , 10.13187327, 10.05005436,\n",
              "        9.83535068,  7.50622949,  9.96035035, 12.24181596,  9.0678184 ,\n",
              "        8.55703453,  8.27492193,  8.94216445,  9.71055847,  7.22793604,\n",
              "       10.43960403,  7.73969524,  8.10015937, 11.37344614, 13.31533985,\n",
              "       10.72683799,  7.78137642, 13.98770574, 11.0445817 , 11.75175342,\n",
              "        8.29304079,  8.72977578,  6.13397758,  6.89099524, 10.99864365,\n",
              "        9.64237254, 12.90586971, 15.17129715, 12.28088374,  5.96462367,\n",
              "        7.76961801,  8.98281659,  6.43204594,  7.72232568, 14.19827972,\n",
              "       13.25053082,  9.89389084,  9.96573143,  9.79810286, 10.14172561,\n",
              "        7.81409908, 11.47174532, 11.450442  , 10.3911203 , 15.50241348,\n",
              "        9.48904588, 11.56440075, 12.05343128, 13.88760725,  8.45152257,\n",
              "       10.74116727, 12.63566511, 12.98740966,  8.45723813,  8.8826979 ,\n",
              "        7.50089055, 10.97620229,  9.31480789, 12.65829103,  9.27041033,\n",
              "       11.35859625,  8.90549983,  8.2892351 , 12.51953868, 11.15071107,\n",
              "        6.26293089,  5.62096943,  6.1848251 , 11.33657753,  7.33735222,\n",
              "        9.16237411, 10.84269531,  8.77716177,  7.4056567 ,  8.18140089,\n",
              "       11.1374708 ,  5.72090996,  8.99957178,  7.07300016, 12.87715809,\n",
              "        6.1765731 ,  8.67603323,  8.74176709, 11.44454162, 11.53146339,\n",
              "        9.25638358, 11.77019887, 11.88081331, 13.45771984,  8.58073425,\n",
              "       10.52890639,  8.99804662,  9.75475748,  9.02067291,  6.28168751,\n",
              "       11.60201274,  9.44290134,  7.09105562,  7.15689129, 10.8767655 ,\n",
              "        7.32584865,  9.56332872,  8.91592135,  8.89172976,  9.48586922,\n",
              "       10.12777219,  9.55656282,  7.74116348, 11.12505705,  9.16975254,\n",
              "       12.22260227,  9.88966044,  7.26557721,  9.43719729, 14.32062925,\n",
              "        6.93383572,  6.75260862,  7.84166651,  6.3568728 , 10.91047011,\n",
              "        9.63590458, 12.43743339,  8.33336911, 12.06688339,  8.47051305,\n",
              "        7.02619768,  9.30159256, 12.54024921,  9.97317763,  9.4518646 ,\n",
              "        9.5313536 ,  7.28306405, 11.83956245,  7.54526166,  9.74327469,\n",
              "       14.01381945, 11.24114165,  7.60459925,  7.56981444,  8.25693841,\n",
              "        8.85604234,  9.9777127 ,  8.2015606 , 10.13367725, 10.98507099,\n",
              "        9.45970164, 11.43778708, 14.06669561, 11.01554628, 13.15604377,\n",
              "        9.41727828, 10.8086939 , 10.75398511,  5.11774571, 10.5919768 ,\n",
              "       10.2803255 ,  8.01493139,  9.6093955 ,  6.26567358,  6.7578447 ,\n",
              "        8.99447391,  8.98191427, 11.61312755,  7.88169391,  8.46213455,\n",
              "        8.8172823 ,  7.75753535, 10.87122087, 11.58288555, 12.50641405,\n",
              "        9.880052  ,  9.55128302, 10.57612308, 10.45263761,  9.13590029,\n",
              "        6.19080773,  9.71959408, 12.28201204,  6.51184947,  8.01089033,\n",
              "        9.85059692, 12.26063436, 10.31983704,  6.82406009,  6.95880716,\n",
              "        9.24172617, 11.96364371,  8.90735799,  8.02539806, 11.78759457,\n",
              "        5.84973853])"
            ]
          },
          "metadata": {},
          "execution_count": 165
        }
      ]
    },
    {
      "cell_type": "code",
      "source": [
        "print('B0=',regressor.coef_)\n",
        "print('B1=',regressor.intercept_)"
      ],
      "metadata": {
        "colab": {
          "base_uri": "https://localhost:8080/"
        },
        "id": "IozGt5m4bvM_",
        "outputId": "ebedd911-6c78-4dcd-b6d9-5a2f148d5f17"
      },
      "execution_count": 166,
      "outputs": [
        {
          "output_type": "stream",
          "name": "stdout",
          "text": [
            "B0= [-0.36199214 -0.46986563  1.20419413  0.35483295 -2.84212069  3.58220867]\n",
            "B1= 9.925605358934485\n"
          ]
        }
      ]
    },
    {
      "cell_type": "code",
      "source": [
        "from sklearn.metrics import r2_score\n",
        "acc=r2_score(y_test,y_pred)\n",
        "acc"
      ],
      "metadata": {
        "colab": {
          "base_uri": "https://localhost:8080/"
        },
        "id": "wxUgw74Ocv0n",
        "outputId": "73741dc4-8504-489d-828a-324661f1ae43"
      },
      "execution_count": 167,
      "outputs": [
        {
          "output_type": "execute_result",
          "data": {
            "text/plain": [
              "0.4912336628013947"
            ]
          },
          "metadata": {},
          "execution_count": 167
        }
      ]
    }
  ]
}